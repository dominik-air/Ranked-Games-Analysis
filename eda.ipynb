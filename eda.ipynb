{
 "cells": [
  {
   "cell_type": "code",
   "execution_count": null,
   "metadata": {},
   "outputs": [],
   "source": [
    "import pandas as pd\n",
    "import matplotlib.pyplot as plt\n",
    "import seaborn as sns"
   ]
  },
  {
   "cell_type": "code",
   "execution_count": null,
   "metadata": {},
   "outputs": [],
   "source": [
    "df = pd.read_csv('data/high_diamond_ranked_10min.csv')"
   ]
  },
  {
   "cell_type": "code",
   "execution_count": null,
   "metadata": {},
   "outputs": [],
   "source": [
    "diffcols = [c for c in df.columns if 'diff' in c.lower()]\n",
    "diffcols"
   ]
  },
  {
   "cell_type": "code",
   "execution_count": null,
   "metadata": {},
   "outputs": [],
   "source": [
    "onlyBlueCols = [c for c in df.columns if 'blue' in c.lower()]\n",
    "onlyBlueCols"
   ]
  },
  {
   "cell_type": "code",
   "execution_count": null,
   "metadata": {},
   "outputs": [],
   "source": [
    "plt.figure(figsize=(12, 12))\n",
    "sns.heatmap(df[onlyBlueCols].corr(), annot=True, fmt=\".2f\")\n",
    "plt.show()"
   ]
  },
  {
   "cell_type": "code",
   "execution_count": null,
   "metadata": {},
   "outputs": [],
   "source": [
    "sns.jointplot(data=df, x=\"blueGoldDiff\", y=\"blueExperienceDiff\", hue=\"blueWins\")\n",
    "plt.show()"
   ]
  },
  {
   "cell_type": "code",
   "execution_count": null,
   "metadata": {},
   "outputs": [],
   "source": [
    "sns.jointplot(data=df, x=\"blueDeaths\", y=\"blueKills\", hue=\"blueWins\")\n",
    "plt.show()"
   ]
  },
  {
   "cell_type": "code",
   "execution_count": null,
   "metadata": {},
   "outputs": [],
   "source": [
    "features = df[['blueWins','blueGoldDiff', 'blueExperienceDiff']]\n",
    "\n",
    "features[\"KDDiff\"] = df[\"blueKills\"] - df[\"blueDeaths\"]\n",
    "features[\"ADiff\"] = df[\"blueAssists\"] - df[\"redAssists\"]\n",
    "features[\"EMDiff\"] = df[\"blueEliteMonsters\"] - df[\"redEliteMonsters\"]\n",
    "features[\"TowersDiff\"] = df[\"blueTowersDestroyed\"] - df[\"redTowersDestroyed\"]\n",
    "features[\"MinionsDiff\"] = df[\"blueTotalMinionsKilled\"] - df[\"redTotalMinionsKilled\"]\n",
    "\n",
    "plt.figure(figsize=(12, 12))\n",
    "sns.heatmap(features.corr(), annot=True, fmt=\".2f\")\n",
    "plt.show()"
   ]
  },
  {
   "attachments": {},
   "cell_type": "markdown",
   "metadata": {},
   "source": [
    "### Description\n",
    "\n",
    "League of Legends is a MOBA (multiplayer online battle arena) where 2 teams (blue and red) face off.\n",
    "\n",
    "The game is about\n",
    "\n",
    "- killing:\n",
    "\n",
    "    - enemy players\n",
    "\n",
    "    - minions\n",
    "\n",
    "    - monsters in the jungle (some of them are elite: Dragons, Heralds)\n",
    "    \n",
    "- destroying buildings of enemy team.\n",
    "\n",
    "\n",
    "Every kill or structure destruction gives both gold for a player or entire team, and experience for a player such that they can gain bigger level.\n",
    "Every player gets one kill (K) while finishing enemy, one death (D) while dying (most often from an enemy) and assist (A) while helping teammate with kill.\n",
    "\n",
    "The ultimate aim of the game is to destroy enemy main building.\n"
   ]
  },
  {
   "attachments": {},
   "cell_type": "markdown",
   "metadata": {},
   "source": [
    "## Model 1: Probit model\n",
    "\n"
   ]
  },
  {
   "cell_type": "code",
   "execution_count": null,
   "metadata": {},
   "outputs": [],
   "source": [
    "from cmdstanpy import CmdStanModel\n",
    "\n",
    "probit_model = CmdStanModel(stan_file='models/probit.stan')\n",
    "\n",
    "data = {\n",
    "    'N': len(features),\n",
    "    'y': features['blueWin'].values.astype(int),\n",
    "    'X': features.drop('blueWin', axis=1).values,\n",
    "}\n",
    "\n",
    "fit = probit_model.sample(data=data, iter_sampling=1000, chains=4)\n",
    "\n",
    "print(fit.summary())\n"
   ]
  },
  {
   "attachments": {},
   "cell_type": "markdown",
   "metadata": {},
   "source": [
    "# Model 2: Logit model"
   ]
  },
  {
   "cell_type": "code",
   "execution_count": null,
   "metadata": {},
   "outputs": [],
   "source": [
    "logit_model = CmdStanModel(stan_file='models/logit.stan')\n",
    "\n",
    "data = {\n",
    "    'N': len(features),\n",
    "    'y': features['blueWin'].values.astype(int),\n",
    "    'X': features.drop('blueWin', axis=1).values,\n",
    "}\n",
    "\n",
    "fit = logit_model.sample(data=data, iter_sampling=1000, chains=4)\n",
    "\n",
    "print(fit.summary())"
   ]
  }
 ],
 "metadata": {
  "kernelspec": {
   "display_name": "base",
   "language": "python",
   "name": "python3"
  },
  "language_info": {
   "codemirror_mode": {
    "name": "ipython",
    "version": 3
   },
   "file_extension": ".py",
   "mimetype": "text/x-python",
   "name": "python",
   "nbconvert_exporter": "python",
   "pygments_lexer": "ipython3",
   "version": "3.10.8"
  },
  "orig_nbformat": 4
 },
 "nbformat": 4,
 "nbformat_minor": 2
}
