{
 "cells": [
  {
   "cell_type": "code",
   "execution_count": 1,
   "metadata": {},
   "outputs": [],
   "source": [
    "# import of necessary libraries\n",
    "\n",
    "import pandas as pd\n",
    "import matplotlib.pyplot as plt\n",
    "import seaborn as sns\n",
    "\n",
    "from sklearn.model_selection import train_test_split\n",
    "from sklearn.preprocessing import StandardScaler\n",
    "\n",
    "\n",
    "pd.options.mode.chained_assignment = None\n"
   ]
  },
  {
   "cell_type": "code",
   "execution_count": 2,
   "metadata": {},
   "outputs": [],
   "source": [
    "# load data\n",
    "df = pd.read_csv('data/high_diamond_ranked_10min.csv')"
   ]
  },
  {
   "cell_type": "markdown",
   "metadata": {},
   "source": [
    "### 1. Problem Formulation\n",
    "\n",
    "The objective of this project is to develop a Bayesian predictive model for League of Legends (LoL) games. LoL is a popular multiplayer online battle arena (MOBA) game developed and published by Riot Games. In this game, two teams (blue and red one) of five players compete against each other in an effort to destroy the opponent's Nexus - the core building located in the heart of the opposing team's base.\n",
    "\n",
    "As the problem requires some expert knowledge, therefore we provide brief summary of LoL game rules and features necessary that we believe that are necessary to understand the analysis.\n",
    "\n",
    "- Gold: In LoL, gold is the primary resource used to purchase items. Items can enhance a champion's stats, grant them new abilities, and generally make them more powerful. Players earn gold in a variety of ways, including killing enemy champions, minions, and neutral monsters, and destroying enemy structures.\n",
    "\n",
    "- Experience (XP): Experience points, or XP, is another crucial resource in the game. Players earn XP by being near enemy minions or monsters when they die, or by killing or assisting in killing enemy champions. When a champion earns enough XP, they level up, increasing their base stats and allowing them to unlock or upgrade one of their abilities.\n",
    "\n",
    "- Kills: A kill is awarded to a player when they land the final blow that results in the death of an enemy champion.\n",
    "\n",
    "- Assists: An assist is awarded to a player if they contributed to the death of an enemy champion but did not land the final blow. Assists still grant gold and experience, albeit less than kills.\n",
    "\n",
    "- Deaths: A death occurs when a champion's health reaches zero. Upon death, a champion respawns back at their base after a certain amount of time, which increases as the game progresses.\n",
    "\n",
    "- Epic Monsters: Epic monsters are powerful neutral creatures that provide significant benefits when killed. They include the Dragon, Baron Nashor, and Rift Herald. Killing these monsters grants the team various buffs, bonus gold, and experience.\n",
    "\n",
    "- Towers: Towers, also known as turrets, are powerful defensive structures that guard the three main paths (or lanes) to each team's base. They attack enemy champions and minions that come within range and provide a significant obstacle to attacking teams. Destroying a tower grants gold to the team and pushes the lane closer to the enemy base.\n",
    "\n",
    "- Minions: Minions are AI-controlled units that spawn at the nexus and advance along the three lanes toward the enemy base. They attack enemy champions, minions, and towers, and killing them provides gold and experience. The constant flow of minions is a primary mechanism driving the game forward and forcing player interaction.\n",
    "\n",
    "\n",
    "We assume that the games are independent of each other. That is, the outcome of a game only depends on the statistics of that game and not any other games.\n",
    "We are ignoring in-game factors that could change over time, such as patch updates, new champion releases, etc., which could affect the game's outcome.\n",
    "\n",
    "**The aim of the project is to predict the result (winner) of the game based on statistics of each team after 10 minutes of the game.**\n",
    "\n",
    "We claim our model may be useful. Predicted **use-cases** of proposed model are desbribed below.\n",
    "\n",
    "- E-Sports Betting This model could be used by individuals involved in e-sports betting to better predict game outcomes and make more informed bets.\n",
    "\n",
    "- Performance Analysis Teams could use this analysis to identify what factors in the first 10 minutes of a game are most predictive of success. This can guide their training and strategies for future games.\n",
    "\n",
    "- Player Improvement Individual players could use this analysis to understand what factors in the first 10 minutes of a game are important for winning, allowing them to improve their gameplay.\n",
    "\n",
    "- Game Development For the game developers, these insights could guide balanced gameplay, champion design, and other game development decisions. They could use this to identify if early game events are disproportionately affecting the game's outcome and need to be rebalanced.\n",
    "\n",
    "**Data source.**\n",
    "\n",
    "Data has been downloaded from kaggle. \n",
    "\n",
    "https://www.kaggle.com/datasets/bobbyscience/league-of-legends-diamond-ranked-games-10-min  \n",
    "\n",
    "Dataset cosist of 40 columns and 9879 rows.\n",
    "\n",
    "Exact column names are depicted in section 1.1.\n",
    "\n",
    "Beside gameId and result (Blue wins) all collumns are divided into statistics of opposite teams: blue and red ones.\n",
    "Distinc features describe:\n",
    "\n",
    "- wards (blueWins, blueWardsPlaced, blueWardsDestroyed) - we do not use this data in further analysis\n",
    "\n",
    "- ... [TODO]\n",
    "\n",
    "**DAG** is depicted in section 1.2.\n",
    "\n",
    "\n",
    "Pipes (Causal Chains):\n",
    "\n",
    "- epicMonstersDifference -> experienceDifference -> gameResult\n",
    "- epicMonstersDifference -> goldDifference -> gameResult\n",
    "- minionsDifference -> experienceDifference -> gameResult\n",
    "- minionsDifference -> goldDifference -> gameResult\n",
    "- towersDifference -> goldDifference -> gameResult\n",
    "- DAKDA -> experienceDifference -> gameResult\n",
    "- DAKDA -> goldDifference -> gameResult\n",
    "\n",
    "Forks (Common Cause):\n",
    "\n",
    "- epicMonstersDifference causing changes in experienceDifference and goldDifference.\n",
    "- minionsDifference causing changes in experienceDifference and goldDifference.\n",
    "- DAKDA causing changes in experienceDifference and goldDifference.\n",
    "\n",
    "Colliders (Common Effect):\n",
    "\n",
    "- experienceDifference and goldDifference both causing changes in gameResult.\n"
   ]
  },
  {
   "cell_type": "markdown",
   "metadata": {},
   "source": [
    "#### EDA"
   ]
  },
  {
   "cell_type": "code",
   "execution_count": null,
   "metadata": {},
   "outputs": [],
   "source": [
    "onlyBlueCols = [c for c in df.columns if 'blue' in c.lower()]\n",
    "plt.figure(figsize=(12, 12))\n",
    "sns.heatmap(df[onlyBlueCols].corr(), annot=True, fmt=\".2f\")\n",
    "plt.show()"
   ]
  },
  {
   "cell_type": "code",
   "execution_count": null,
   "metadata": {},
   "outputs": [],
   "source": [
    "plt.figure(figsize=(12, 12))\n",
    "sns.heatmap(df[onlyBlueCols].corr(), annot=True, fmt=\".2f\")\n",
    "plt.show()"
   ]
  },
  {
   "cell_type": "code",
   "execution_count": null,
   "metadata": {},
   "outputs": [],
   "source": [
    "sns.jointplot(data=df, x=\"blueDeaths\", y=\"blueKills\", hue=\"blueWins\")\n",
    "plt.show()"
   ]
  },
  {
   "cell_type": "markdown",
   "metadata": {},
   "source": [
    "#### 1.1"
   ]
  },
  {
   "cell_type": "code",
   "execution_count": 3,
   "metadata": {},
   "outputs": [
    {
     "name": "stdout",
     "output_type": "stream",
     "text": [
      "<class 'pandas.core.frame.DataFrame'>\n",
      "RangeIndex: 9879 entries, 0 to 9878\n",
      "Data columns (total 40 columns):\n",
      " #   Column                        Non-Null Count  Dtype  \n",
      "---  ------                        --------------  -----  \n",
      " 0   gameId                        9879 non-null   int64  \n",
      " 1   blueWins                      9879 non-null   int64  \n",
      " 2   blueWardsPlaced               9879 non-null   int64  \n",
      " 3   blueWardsDestroyed            9879 non-null   int64  \n",
      " 4   blueFirstBlood                9879 non-null   int64  \n",
      " 5   blueKills                     9879 non-null   int64  \n",
      " 6   blueDeaths                    9879 non-null   int64  \n",
      " 7   blueAssists                   9879 non-null   int64  \n",
      " 8   blueEliteMonsters             9879 non-null   int64  \n",
      " 9   blueDragons                   9879 non-null   int64  \n",
      " 10  blueHeralds                   9879 non-null   int64  \n",
      " 11  blueTowersDestroyed           9879 non-null   int64  \n",
      " 12  blueTotalGold                 9879 non-null   int64  \n",
      " 13  blueAvgLevel                  9879 non-null   float64\n",
      " 14  blueTotalExperience           9879 non-null   int64  \n",
      " 15  blueTotalMinionsKilled        9879 non-null   int64  \n",
      " 16  blueTotalJungleMinionsKilled  9879 non-null   int64  \n",
      " 17  blueGoldDiff                  9879 non-null   int64  \n",
      " 18  blueExperienceDiff            9879 non-null   int64  \n",
      " 19  blueCSPerMin                  9879 non-null   float64\n",
      " 20  blueGoldPerMin                9879 non-null   float64\n",
      " 21  redWardsPlaced                9879 non-null   int64  \n",
      " 22  redWardsDestroyed             9879 non-null   int64  \n",
      " 23  redFirstBlood                 9879 non-null   int64  \n",
      " 24  redKills                      9879 non-null   int64  \n",
      " 25  redDeaths                     9879 non-null   int64  \n",
      " 26  redAssists                    9879 non-null   int64  \n",
      " 27  redEliteMonsters              9879 non-null   int64  \n",
      " 28  redDragons                    9879 non-null   int64  \n",
      " 29  redHeralds                    9879 non-null   int64  \n",
      " 30  redTowersDestroyed            9879 non-null   int64  \n",
      " 31  redTotalGold                  9879 non-null   int64  \n",
      " 32  redAvgLevel                   9879 non-null   float64\n",
      " 33  redTotalExperience            9879 non-null   int64  \n",
      " 34  redTotalMinionsKilled         9879 non-null   int64  \n",
      " 35  redTotalJungleMinionsKilled   9879 non-null   int64  \n",
      " 36  redGoldDiff                   9879 non-null   int64  \n",
      " 37  redExperienceDiff             9879 non-null   int64  \n",
      " 38  redCSPerMin                   9879 non-null   float64\n",
      " 39  redGoldPerMin                 9879 non-null   float64\n",
      "dtypes: float64(6), int64(34)\n",
      "memory usage: 3.0 MB\n"
     ]
    }
   ],
   "source": [
    "df.info()"
   ]
  },
  {
   "cell_type": "markdown",
   "metadata": {},
   "source": [
    "#### 1.2"
   ]
  },
  {
   "attachments": {
    "image.png": {
     "image/png": "[encoded data removed]"
    }
   },
   "cell_type": "markdown",
   "metadata": {},
   "source": [
    "![image.png](attachment:image.png)"
   ]
  },
  {
   "cell_type": "markdown",
   "metadata": {},
   "source": [
    "### 2. Data Preprocessing\n",
    "\n",
    "We have dropped all the rows what contained NaNs (0).\n",
    "\n",
    "We conclued that in game it does not matter whether team is good by any measure but the difference in these features is what matters the most, therefore we made features differential. This process code is provided in section 2.1.\n",
    "\n",
    "Our Bayesian model will incorporate the following difference variables, comparing the stats of both teams:\n",
    "\n",
    "Team Gold Difference: The difference in the total amount of gold earned by each team. Gold is earned by killing enemy champions, minions, and neutral monsters and is used to buy items to strengthen champions.\n",
    "\n",
    "Team Experience Difference: The difference in total experience points earned by each team. Experience points are crucial for leveling up the champions and unlocking and strengthening their abilities.\n",
    "\n",
    "Difference Augmented KDA: KDA stands for Kills, Deaths, and Assists. We'll look at the difference between the KDA ratios of each team, a measure of overall team performance in fights.\n",
    "\n",
    "Minions Difference: The difference in the total number of minions (non-player characters that are a primary source of gold and experience) killed by each team.\n",
    "\n",
    "Epic Monster Difference: The difference in the number of epic monsters (highly powerful neutral monsters that grant significant benefits when killed) each team has slain.\n",
    "\n",
    "Towers Destroyed Difference: The difference in the number of towers (defensive structures that guard the main paths towards the nexus) each team has destroyed.\n",
    "\n",
    "These difference variables provide a quantifiable measure of each team's advantage over the other after the first 10 minutes of the game, which we can use to predict the eventual game outcome.\n",
    "\n",
    "\n",
    "We scale data (subtract mean and divide by std) as we came across issues HMC sampler convergence. Exact code can be found in secion 2.2.\n",
    "\n"
   ]
  },
  {
   "cell_type": "markdown",
   "metadata": {},
   "source": [
    "#### 2.1"
   ]
  },
  {
   "cell_type": "code",
   "execution_count": null,
   "metadata": {},
   "outputs": [],
   "source": [
    "features = df[['blueWins']]\n",
    "\n",
    "features[\"goldDiff\"] = df[\"blueGoldDiff\"]\n",
    "features[\"expDiff\"] = df[\"blueExperienceDiff\"]\n",
    "features[\"KDDiff\"] = df[\"blueKills\"] - df[\"blueDeaths\"]\n",
    "features[\"DAKDA\"] = (df[\"blueKills\"] + df[\"blueAssists\"]) * df[\"redDeaths\"] - (df[\"redKills\"] + df[\"redAssists\"]) * df[\"blueDeaths\"]\n",
    "features[\"ADiff\"] = df[\"blueAssists\"] - df[\"redAssists\"]\n",
    "features[\"EMDiff\"] = df[\"blueEliteMonsters\"] - df[\"redEliteMonsters\"]\n",
    "features[\"TowersDiff\"] = df[\"blueTowersDestroyed\"] - df[\"redTowersDestroyed\"]\n",
    "features[\"MinionsDiff\"] = df[\"blueTotalMinionsKilled\"] - df[\"redTotalMinionsKilled\"]\n",
    "\n",
    "plt.figure(figsize=(12, 12))\n",
    "sns.heatmap(features.corr(), annot=True, fmt=\".2f\")\n",
    "plt.show()"
   ]
  },
  {
   "cell_type": "markdown",
   "metadata": {},
   "source": [
    "#### 2.2"
   ]
  },
  {
   "cell_type": "code",
   "execution_count": null,
   "metadata": {},
   "outputs": [],
   "source": [
    "scaler = StandardScaler()\n",
    "\n",
    "X = features[['goldDiff', 'expDiff']]\n",
    "y = features['blueWins'].values.astype(int)\n",
    "\n",
    "X_train, X_test, y_train, y_test = train_test_split(X, y, test_size=1/3, random_state=28062023)\n",
    "\n",
    "scaler.fit(X_train)\n",
    "X_train = scaler.transform(X_train)"
   ]
  },
  {
   "cell_type": "markdown",
   "metadata": {},
   "source": [
    "#### EDA"
   ]
  },
  {
   "cell_type": "markdown",
   "metadata": {},
   "source": [
    "sns.jointplot(data=features, x=\"goldDiff\", y=\"expDiff\", hue=\"blueWins\")\n",
    "plt.show()"
   ]
  },
  {
   "cell_type": "markdown",
   "metadata": {},
   "source": [
    "### 3. Model\n",
    "\n",
    "\n",
    "#### First Model (Logit Model)\n",
    "\n",
    "The model have three distinct predictors:\n",
    "\n",
    "- DAKDA\n",
    "- \n",
    "- \n",
    "\n",
    "#### Second Model (Probit Model)\n",
    "\n",
    "The second Model [TODO] ...\n",
    "\n",
    "Models do cleraly differ on the following matters:\n",
    "\n",
    "\n",
    "Difference has been applied due to a fact that ...\n",
    "\n",
    "\n",
    "\n"
   ]
  },
  {
   "cell_type": "markdown",
   "metadata": {},
   "source": [
    "### 4. Priors\n",
    "\n",
    "We have chosen ..."
   ]
  },
  {
   "cell_type": "markdown",
   "metadata": {},
   "source": [
    "### 5. Posterior analysis First Model"
   ]
  },
  {
   "cell_type": "markdown",
   "metadata": {},
   "source": [
    "### 6. Posterior analysis Second Model"
   ]
  },
  {
   "cell_type": "markdown",
   "metadata": {},
   "source": [
    "### 7. Model comparison"
   ]
  }
 ],
 "metadata": {
  "kernelspec": {
   "display_name": "base",
   "language": "python",
   "name": "python3"
  },
  "language_info": {
   "codemirror_mode": {
    "name": "ipython",
    "version": 3
   },
   "file_extension": ".py",
   "mimetype": "text/x-python",
   "name": "python",
   "nbconvert_exporter": "python",
   "pygments_lexer": "ipython3",
   "version": "3.8.8"
  },
  "orig_nbformat": 4
 },
 "nbformat": 4,
 "nbformat_minor": 2
}
